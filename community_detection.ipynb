{
  "nbformat": 4,
  "nbformat_minor": 0,
  "metadata": {
    "colab": {
      "name": "community_detection.ipynb",
      "provenance": []
    },
    "kernelspec": {
      "name": "python3",
      "display_name": "Python 3"
    },
    "language_info": {
      "name": "python"
    }
  },
  "cells": [
    {
      "cell_type": "code",
      "execution_count": 1,
      "metadata": {
        "id": "4R_0F_0HwDuw"
      },
      "outputs": [],
      "source": [
        "import pandas as pd\n",
        "import numpy as np\n",
        "import matplotlib.pyplot as plt\n",
        "import seaborn as sns\n",
        "from os.path import join\n",
        "from os import listdir\n",
        "import json\n",
        "import networkx as nx\n",
        "\n",
        "import warnings\n",
        "warnings.filterwarnings(\"ignore\")\n",
        "\n",
        "%matplotlib inline"
      ]
    },
    {
      "cell_type": "code",
      "source": [
        "from google.colab import drive\n",
        "drive.mount('./drive', force_remount=True)\n",
        "\n",
        "path_prefix = './drive/My Drive/CS48002-NetworkScience/'"
      ],
      "metadata": {
        "colab": {
          "base_uri": "https://localhost:8080/"
        },
        "id": "pMVeSkwEwKQz",
        "outputId": "ad08753c-216c-4410-fefa-c7b0b078e7fa"
      },
      "execution_count": 2,
      "outputs": [
        {
          "output_type": "stream",
          "name": "stdout",
          "text": [
            "Mounted at ./drive\n"
          ]
        }
      ]
    },
    {
      "cell_type": "code",
      "source": [
        "df = pd.read_csv(path_prefix+'network_dataset.csv', index_col=0)"
      ],
      "metadata": {
        "id": "O2j4hn5gwQos"
      },
      "execution_count": 51,
      "outputs": []
    },
    {
      "cell_type": "code",
      "source": [
        "df.sample()"
      ],
      "metadata": {
        "colab": {
          "base_uri": "https://localhost:8080/",
          "height": 244
        },
        "id": "PuqDVplCwkEp",
        "outputId": "57cd7d03-0e7b-4c34-b8da-776edab45dcc"
      },
      "execution_count": 52,
      "outputs": [
        {
          "output_type": "execute_result",
          "data": {
            "text/plain": [
              "                          App Id  \\\n",
              "229  com.kiragames.unblockmefree   \n",
              "\n",
              "                                       All Permissions         App Name  \\\n",
              "229  [{'permission': 'view Wi-Fi connections', 'typ...  Unblock Me FREE   \n",
              "\n",
              "    Category  Rating  Rating Count     Installs  Minimum Installs  \\\n",
              "229   Puzzle     4.5      701925.0  50,000,000+        50000000.0   \n",
              "\n",
              "     Maximum Installs  Free  ...         Developer Website  \\\n",
              "229          96519838  True  ...  http://www.kiragames.com   \n",
              "\n",
              "           Developer Email     Released  Last Updated Content Rating  \\\n",
              "229  support@kiragames.com  Aug 6, 2010  May 19, 2021       Everyone   \n",
              "\n",
              "                               Privacy Policy Ad Supported In App Purchases  \\\n",
              "229  http://kiragames.com/privacy-policy.html         True             True   \n",
              "\n",
              "    Editors Choice         Scraped Time  \n",
              "229          False  2021-06-16 05:40:01  \n",
              "\n",
              "[1 rows x 25 columns]"
            ],
            "text/html": [
              "\n",
              "  <div id=\"df-2e15ad77-4608-40bf-8e23-1552969aad22\">\n",
              "    <div class=\"colab-df-container\">\n",
              "      <div>\n",
              "<style scoped>\n",
              "    .dataframe tbody tr th:only-of-type {\n",
              "        vertical-align: middle;\n",
              "    }\n",
              "\n",
              "    .dataframe tbody tr th {\n",
              "        vertical-align: top;\n",
              "    }\n",
              "\n",
              "    .dataframe thead th {\n",
              "        text-align: right;\n",
              "    }\n",
              "</style>\n",
              "<table border=\"1\" class=\"dataframe\">\n",
              "  <thead>\n",
              "    <tr style=\"text-align: right;\">\n",
              "      <th></th>\n",
              "      <th>App Id</th>\n",
              "      <th>All Permissions</th>\n",
              "      <th>App Name</th>\n",
              "      <th>Category</th>\n",
              "      <th>Rating</th>\n",
              "      <th>Rating Count</th>\n",
              "      <th>Installs</th>\n",
              "      <th>Minimum Installs</th>\n",
              "      <th>Maximum Installs</th>\n",
              "      <th>Free</th>\n",
              "      <th>...</th>\n",
              "      <th>Developer Website</th>\n",
              "      <th>Developer Email</th>\n",
              "      <th>Released</th>\n",
              "      <th>Last Updated</th>\n",
              "      <th>Content Rating</th>\n",
              "      <th>Privacy Policy</th>\n",
              "      <th>Ad Supported</th>\n",
              "      <th>In App Purchases</th>\n",
              "      <th>Editors Choice</th>\n",
              "      <th>Scraped Time</th>\n",
              "    </tr>\n",
              "  </thead>\n",
              "  <tbody>\n",
              "    <tr>\n",
              "      <th>229</th>\n",
              "      <td>com.kiragames.unblockmefree</td>\n",
              "      <td>[{'permission': 'view Wi-Fi connections', 'typ...</td>\n",
              "      <td>Unblock Me FREE</td>\n",
              "      <td>Puzzle</td>\n",
              "      <td>4.5</td>\n",
              "      <td>701925.0</td>\n",
              "      <td>50,000,000+</td>\n",
              "      <td>50000000.0</td>\n",
              "      <td>96519838</td>\n",
              "      <td>True</td>\n",
              "      <td>...</td>\n",
              "      <td>http://www.kiragames.com</td>\n",
              "      <td>support@kiragames.com</td>\n",
              "      <td>Aug 6, 2010</td>\n",
              "      <td>May 19, 2021</td>\n",
              "      <td>Everyone</td>\n",
              "      <td>http://kiragames.com/privacy-policy.html</td>\n",
              "      <td>True</td>\n",
              "      <td>True</td>\n",
              "      <td>False</td>\n",
              "      <td>2021-06-16 05:40:01</td>\n",
              "    </tr>\n",
              "  </tbody>\n",
              "</table>\n",
              "<p>1 rows × 25 columns</p>\n",
              "</div>\n",
              "      <button class=\"colab-df-convert\" onclick=\"convertToInteractive('df-2e15ad77-4608-40bf-8e23-1552969aad22')\"\n",
              "              title=\"Convert this dataframe to an interactive table.\"\n",
              "              style=\"display:none;\">\n",
              "        \n",
              "  <svg xmlns=\"http://www.w3.org/2000/svg\" height=\"24px\"viewBox=\"0 0 24 24\"\n",
              "       width=\"24px\">\n",
              "    <path d=\"M0 0h24v24H0V0z\" fill=\"none\"/>\n",
              "    <path d=\"M18.56 5.44l.94 2.06.94-2.06 2.06-.94-2.06-.94-.94-2.06-.94 2.06-2.06.94zm-11 1L8.5 8.5l.94-2.06 2.06-.94-2.06-.94L8.5 2.5l-.94 2.06-2.06.94zm10 10l.94 2.06.94-2.06 2.06-.94-2.06-.94-.94-2.06-.94 2.06-2.06.94z\"/><path d=\"M17.41 7.96l-1.37-1.37c-.4-.4-.92-.59-1.43-.59-.52 0-1.04.2-1.43.59L10.3 9.45l-7.72 7.72c-.78.78-.78 2.05 0 2.83L4 21.41c.39.39.9.59 1.41.59.51 0 1.02-.2 1.41-.59l7.78-7.78 2.81-2.81c.8-.78.8-2.07 0-2.86zM5.41 20L4 18.59l7.72-7.72 1.47 1.35L5.41 20z\"/>\n",
              "  </svg>\n",
              "      </button>\n",
              "      \n",
              "  <style>\n",
              "    .colab-df-container {\n",
              "      display:flex;\n",
              "      flex-wrap:wrap;\n",
              "      gap: 12px;\n",
              "    }\n",
              "\n",
              "    .colab-df-convert {\n",
              "      background-color: #E8F0FE;\n",
              "      border: none;\n",
              "      border-radius: 50%;\n",
              "      cursor: pointer;\n",
              "      display: none;\n",
              "      fill: #1967D2;\n",
              "      height: 32px;\n",
              "      padding: 0 0 0 0;\n",
              "      width: 32px;\n",
              "    }\n",
              "\n",
              "    .colab-df-convert:hover {\n",
              "      background-color: #E2EBFA;\n",
              "      box-shadow: 0px 1px 2px rgba(60, 64, 67, 0.3), 0px 1px 3px 1px rgba(60, 64, 67, 0.15);\n",
              "      fill: #174EA6;\n",
              "    }\n",
              "\n",
              "    [theme=dark] .colab-df-convert {\n",
              "      background-color: #3B4455;\n",
              "      fill: #D2E3FC;\n",
              "    }\n",
              "\n",
              "    [theme=dark] .colab-df-convert:hover {\n",
              "      background-color: #434B5C;\n",
              "      box-shadow: 0px 1px 3px 1px rgba(0, 0, 0, 0.15);\n",
              "      filter: drop-shadow(0px 1px 2px rgba(0, 0, 0, 0.3));\n",
              "      fill: #FFFFFF;\n",
              "    }\n",
              "  </style>\n",
              "\n",
              "      <script>\n",
              "        const buttonEl =\n",
              "          document.querySelector('#df-2e15ad77-4608-40bf-8e23-1552969aad22 button.colab-df-convert');\n",
              "        buttonEl.style.display =\n",
              "          google.colab.kernel.accessAllowed ? 'block' : 'none';\n",
              "\n",
              "        async function convertToInteractive(key) {\n",
              "          const element = document.querySelector('#df-2e15ad77-4608-40bf-8e23-1552969aad22');\n",
              "          const dataTable =\n",
              "            await google.colab.kernel.invokeFunction('convertToInteractive',\n",
              "                                                     [key], {});\n",
              "          if (!dataTable) return;\n",
              "\n",
              "          const docLinkHtml = 'Like what you see? Visit the ' +\n",
              "            '<a target=\"_blank\" href=https://colab.research.google.com/notebooks/data_table.ipynb>data table notebook</a>'\n",
              "            + ' to learn more about interactive tables.';\n",
              "          element.innerHTML = '';\n",
              "          dataTable['output_type'] = 'display_data';\n",
              "          await google.colab.output.renderOutput(dataTable, element);\n",
              "          const docLink = document.createElement('div');\n",
              "          docLink.innerHTML = docLinkHtml;\n",
              "          element.appendChild(docLink);\n",
              "        }\n",
              "      </script>\n",
              "    </div>\n",
              "  </div>\n",
              "  "
            ]
          },
          "metadata": {},
          "execution_count": 52
        }
      ]
    },
    {
      "cell_type": "code",
      "source": [
        "def permissionSimilarity(id1, id2):\n",
        "  row1=df[df[\"App Id\"]==id1]\n",
        "  row2=df[df[\"App Id\"]==id2]\n",
        "\n",
        "  perms1=list(row1[\"All Permissions\"])[0]\n",
        "  perms2=list(row2[\"All Permissions\"])[0]\n",
        "\n",
        "  perms1 = list(eval(perms1))\n",
        "  perms2 = list(eval(perms2))\n",
        "\n",
        "  common_perms = set()\n",
        "\n",
        "  for per1 in perms1:\n",
        "    for per2 in perms2:\n",
        "      if dict(per1)[\"permission\"]==dict(per2)[\"permission\"]:\n",
        "        common_perms.add(dict(per1)[\"permission\"])\n",
        "  \n",
        "  if len(perms1)+ len(perms2) == 0:\n",
        "    return 1\n",
        "  \n",
        "  return len(common_perms) / (((len(perms1)+len(perms2))/2))"
      ],
      "metadata": {
        "id": "4oSw5NXAwsEo"
      },
      "execution_count": 63,
      "outputs": []
    },
    {
      "cell_type": "code",
      "source": [
        "import csv\n",
        "from google.colab import files\n",
        "\n",
        "edgeList = []\n",
        "\n",
        "for i, row1 in df.iterrows():\n",
        "  for j,row2 in df.iterrows():\n",
        "    if row1[\"App Id\"] != row2[\"App Id\"] and j > i:\n",
        "      edgeWeight = permissionSimilarity(row1[\"App Id\"], row2[\"App Id\"])\n",
        "      if edgeWeight > 0: \n",
        "        edge = ((row1[\"App Id\"], row2[\"App Id\"], edgeWeight))\n",
        "        edgeList.append(edge)\n",
        "  print(i)\n",
        "  \n",
        "with open(path_prefix+'network_edges.txt', 'w') as f: \n",
        "  write = csv.writer(f)\n",
        "  write.writerows(edgeList)\n",
        "\n",
        "files.download(path_prefix+\"network_edges.txt\") "
      ],
      "metadata": {
        "id": "OzIQYKuVwuZi"
      },
      "execution_count": null,
      "outputs": []
    },
    {
      "cell_type": "code",
      "source": [
        "appNet = nx.Graph()\n",
        "appNet.add_weighted_edges_from(edgeList)"
      ],
      "metadata": {
        "id": "ZmUOwSg3w-QH"
      },
      "execution_count": 65,
      "outputs": []
    },
    {
      "cell_type": "code",
      "source": [
        "import community.community_louvain as community_louvain\n",
        "\n",
        "communities = community_louvain.best_partition(appNet)"
      ],
      "metadata": {
        "id": "KaNUsJv-2U7k"
      },
      "execution_count": 66,
      "outputs": []
    },
    {
      "cell_type": "code",
      "source": [
        "uniq = []\n",
        "for key in communities:\n",
        "  if communities[key] not in uniq:\n",
        "    uniq.append(communities[key])\n",
        "print(uniq)"
      ],
      "metadata": {
        "colab": {
          "base_uri": "https://localhost:8080/"
        },
        "id": "GDVYyMy-2ZNP",
        "outputId": "983a60c6-f53b-4c76-9175-eae41c932d31"
      },
      "execution_count": 67,
      "outputs": [
        {
          "output_type": "stream",
          "name": "stdout",
          "text": [
            "[2, 0, 1]\n"
          ]
        }
      ]
    },
    {
      "cell_type": "code",
      "source": [
        "with open(path_prefix+'app_communities_layer1.txt', 'w') as f: \n",
        "  f.write(json.dumps(communities))\n",
        "\n",
        "files.download(path_prefix+\"app_communities_layer1.txt\") "
      ],
      "metadata": {
        "colab": {
          "base_uri": "https://localhost:8080/",
          "height": 17
        },
        "id": "CwxG_Vd42ena",
        "outputId": "95e52bfa-d83e-426a-be4b-6ff72e994bb2"
      },
      "execution_count": 68,
      "outputs": [
        {
          "output_type": "display_data",
          "data": {
            "text/plain": [
              "<IPython.core.display.Javascript object>"
            ],
            "application/javascript": [
              "\n",
              "    async function download(id, filename, size) {\n",
              "      if (!google.colab.kernel.accessAllowed) {\n",
              "        return;\n",
              "      }\n",
              "      const div = document.createElement('div');\n",
              "      const label = document.createElement('label');\n",
              "      label.textContent = `Downloading \"${filename}\": `;\n",
              "      div.appendChild(label);\n",
              "      const progress = document.createElement('progress');\n",
              "      progress.max = size;\n",
              "      div.appendChild(progress);\n",
              "      document.body.appendChild(div);\n",
              "\n",
              "      const buffers = [];\n",
              "      let downloaded = 0;\n",
              "\n",
              "      const channel = await google.colab.kernel.comms.open(id);\n",
              "      // Send a message to notify the kernel that we're ready.\n",
              "      channel.send({})\n",
              "\n",
              "      for await (const message of channel.messages) {\n",
              "        // Send a message to notify the kernel that we're ready.\n",
              "        channel.send({})\n",
              "        if (message.buffers) {\n",
              "          for (const buffer of message.buffers) {\n",
              "            buffers.push(buffer);\n",
              "            downloaded += buffer.byteLength;\n",
              "            progress.value = downloaded;\n",
              "          }\n",
              "        }\n",
              "      }\n",
              "      const blob = new Blob(buffers, {type: 'application/binary'});\n",
              "      const a = document.createElement('a');\n",
              "      a.href = window.URL.createObjectURL(blob);\n",
              "      a.download = filename;\n",
              "      div.appendChild(a);\n",
              "      a.click();\n",
              "      div.remove();\n",
              "    }\n",
              "  "
            ]
          },
          "metadata": {}
        },
        {
          "output_type": "display_data",
          "data": {
            "text/plain": [
              "<IPython.core.display.Javascript object>"
            ],
            "application/javascript": [
              "download(\"download_575a4e08-3a65-4d68-abea-8e01c3cf086a\", \"app_communities_layer1.txt\", 30732)"
            ]
          },
          "metadata": {}
        }
      ]
    },
    {
      "cell_type": "code",
      "source": [
        "def community_ad_analysis(community):\n",
        "  ad_free = 0\n",
        "  ad_supported = 0\n",
        "\n",
        "  for key in communities:\n",
        "    if communities[key] == community:\n",
        "      app = df[df[\"App Id\"]==key]\n",
        "      isAdSupported = str(list(app[\"Ad Supported\"])[0])\n",
        "      if isAdSupported == \"True\":\n",
        "        ad_supported+=1\n",
        "      elif isAdSupported == \"False\":\n",
        "        ad_free +=1\n",
        "        \n",
        "  return ad_free , ad_supported\n"
      ],
      "metadata": {
        "id": "KnBf4tyM6PLC"
      },
      "execution_count": 108,
      "outputs": []
    },
    {
      "cell_type": "code",
      "source": [
        "def community_category_analysis(community):\n",
        "  categories = {}\n",
        "\n",
        "  for key in communities:\n",
        "    if communities[key] == community:\n",
        "      app = df[df[\"App Id\"]==key]\n",
        "      category = list(app[\"Category\"])[0]\n",
        "      if category  not in categories:\n",
        "        categories[category] = 1\n",
        "      else:\n",
        "        categories[category] += 1\n",
        "\n",
        "  return categories"
      ],
      "metadata": {
        "id": "gdn0-AV87Ie5"
      },
      "execution_count": 111,
      "outputs": []
    },
    {
      "cell_type": "code",
      "source": [
        "cat = {}\n",
        "\n",
        "for comm in uniq:\n",
        "  cat[comm] = dict()\n",
        "  cat[comm][\"Category Distribution\"] = community_category_analysis(comm)\n",
        "  cat[comm][\"Ad Supportedness\"] = community_ad_analysis(comm)"
      ],
      "metadata": {
        "id": "c7WaCaMc7inY"
      },
      "execution_count": null,
      "outputs": []
    },
    {
      "cell_type": "code",
      "source": [
        "import json\n",
        "with open('layer1.json', 'w') as fp:\n",
        "    json.dump(cat, fp, indent=4)"
      ],
      "metadata": {
        "id": "KSKJiGrO8lXe"
      },
      "execution_count": 114,
      "outputs": []
    },
    {
      "cell_type": "code",
      "source": [
        "files.download(\"layer1.json\") "
      ],
      "metadata": {
        "colab": {
          "base_uri": "https://localhost:8080/",
          "height": 17
        },
        "id": "dLSe-pw5BULg",
        "outputId": "02e783a2-e793-42a1-f42f-199f518d2506"
      },
      "execution_count": 116,
      "outputs": [
        {
          "output_type": "display_data",
          "data": {
            "text/plain": [
              "<IPython.core.display.Javascript object>"
            ],
            "application/javascript": [
              "\n",
              "    async function download(id, filename, size) {\n",
              "      if (!google.colab.kernel.accessAllowed) {\n",
              "        return;\n",
              "      }\n",
              "      const div = document.createElement('div');\n",
              "      const label = document.createElement('label');\n",
              "      label.textContent = `Downloading \"${filename}\": `;\n",
              "      div.appendChild(label);\n",
              "      const progress = document.createElement('progress');\n",
              "      progress.max = size;\n",
              "      div.appendChild(progress);\n",
              "      document.body.appendChild(div);\n",
              "\n",
              "      const buffers = [];\n",
              "      let downloaded = 0;\n",
              "\n",
              "      const channel = await google.colab.kernel.comms.open(id);\n",
              "      // Send a message to notify the kernel that we're ready.\n",
              "      channel.send({})\n",
              "\n",
              "      for await (const message of channel.messages) {\n",
              "        // Send a message to notify the kernel that we're ready.\n",
              "        channel.send({})\n",
              "        if (message.buffers) {\n",
              "          for (const buffer of message.buffers) {\n",
              "            buffers.push(buffer);\n",
              "            downloaded += buffer.byteLength;\n",
              "            progress.value = downloaded;\n",
              "          }\n",
              "        }\n",
              "      }\n",
              "      const blob = new Blob(buffers, {type: 'application/binary'});\n",
              "      const a = document.createElement('a');\n",
              "      a.href = window.URL.createObjectURL(blob);\n",
              "      a.download = filename;\n",
              "      div.appendChild(a);\n",
              "      a.click();\n",
              "      div.remove();\n",
              "    }\n",
              "  "
            ]
          },
          "metadata": {}
        },
        {
          "output_type": "display_data",
          "data": {
            "text/plain": [
              "<IPython.core.display.Javascript object>"
            ],
            "application/javascript": [
              "download(\"download_9df6a542-19dc-4ba9-9317-4b9a992f6ef7\", \"layer1.json\", 2831)"
            ]
          },
          "metadata": {}
        }
      ]
    }
  ]
}